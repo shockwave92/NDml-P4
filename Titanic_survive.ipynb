{
 "cells": [
  {
   "cell_type": "markdown",
   "metadata": {},
   "source": [
    "# Maching Learning\n",
    "## Project - Investigate a Dataset\n",
    "## 泰坦尼克号数据"
   ]
  },
  {
   "cell_type": "markdown",
   "metadata": {},
   "source": [
    "### 前言\n",
    ">泰坦尼克號是1912最大的客船，但在處女航的過程中撞上冰山後隨即沉沒，導致大部分的乘客死亡。此次災難還拍成了電影，可謂世界聞名。\n",
    ">\n",
    ">在電影中，也出現了婦孺優先登上救生船，以及船長、船員殿後的情節。\n",
    ">\n",
    ">以下將就本次取得的數據來進行分析，觀察什麼樣的情況之下，乘客會有較高的存活率。"
   ]
  },
  {
   "cell_type": "code",
   "execution_count": 1,
   "metadata": {
    "collapsed": true
   },
   "outputs": [],
   "source": [
    "import numpy as np\n",
    "import pandas as pd\n",
    "import matplotlib.pyplot as plt\n",
    "import seaborn as sns\n",
    "import math\n",
    "%matplotlib inline\n",
    "df = pd.read_csv('titanic-data.csv')"
   ]
  },
  {
   "cell_type": "markdown",
   "metadata": {},
   "source": [
    "# 1.數據觀察及清理"
   ]
  },
  {
   "cell_type": "code",
   "execution_count": 2,
   "metadata": {},
   "outputs": [
    {
     "data": {
      "text/html": [
       "<div>\n",
       "<style>\n",
       "    .dataframe thead tr:only-child th {\n",
       "        text-align: right;\n",
       "    }\n",
       "\n",
       "    .dataframe thead th {\n",
       "        text-align: left;\n",
       "    }\n",
       "\n",
       "    .dataframe tbody tr th {\n",
       "        vertical-align: top;\n",
       "    }\n",
       "</style>\n",
       "<table border=\"1\" class=\"dataframe\">\n",
       "  <thead>\n",
       "    <tr style=\"text-align: right;\">\n",
       "      <th></th>\n",
       "      <th>PassengerId</th>\n",
       "      <th>Survived</th>\n",
       "      <th>Pclass</th>\n",
       "      <th>Name</th>\n",
       "      <th>Sex</th>\n",
       "      <th>Age</th>\n",
       "      <th>SibSp</th>\n",
       "      <th>Parch</th>\n",
       "      <th>Ticket</th>\n",
       "      <th>Fare</th>\n",
       "      <th>Cabin</th>\n",
       "      <th>Embarked</th>\n",
       "    </tr>\n",
       "  </thead>\n",
       "  <tbody>\n",
       "    <tr>\n",
       "      <th>0</th>\n",
       "      <td>1</td>\n",
       "      <td>0</td>\n",
       "      <td>3</td>\n",
       "      <td>Braund, Mr. Owen Harris</td>\n",
       "      <td>male</td>\n",
       "      <td>22.0</td>\n",
       "      <td>1</td>\n",
       "      <td>0</td>\n",
       "      <td>A/5 21171</td>\n",
       "      <td>7.2500</td>\n",
       "      <td>NaN</td>\n",
       "      <td>S</td>\n",
       "    </tr>\n",
       "    <tr>\n",
       "      <th>1</th>\n",
       "      <td>2</td>\n",
       "      <td>1</td>\n",
       "      <td>1</td>\n",
       "      <td>Cumings, Mrs. John Bradley (Florence Briggs Th...</td>\n",
       "      <td>female</td>\n",
       "      <td>38.0</td>\n",
       "      <td>1</td>\n",
       "      <td>0</td>\n",
       "      <td>PC 17599</td>\n",
       "      <td>71.2833</td>\n",
       "      <td>C85</td>\n",
       "      <td>C</td>\n",
       "    </tr>\n",
       "    <tr>\n",
       "      <th>2</th>\n",
       "      <td>3</td>\n",
       "      <td>1</td>\n",
       "      <td>3</td>\n",
       "      <td>Heikkinen, Miss. Laina</td>\n",
       "      <td>female</td>\n",
       "      <td>26.0</td>\n",
       "      <td>0</td>\n",
       "      <td>0</td>\n",
       "      <td>STON/O2. 3101282</td>\n",
       "      <td>7.9250</td>\n",
       "      <td>NaN</td>\n",
       "      <td>S</td>\n",
       "    </tr>\n",
       "    <tr>\n",
       "      <th>3</th>\n",
       "      <td>4</td>\n",
       "      <td>1</td>\n",
       "      <td>1</td>\n",
       "      <td>Futrelle, Mrs. Jacques Heath (Lily May Peel)</td>\n",
       "      <td>female</td>\n",
       "      <td>35.0</td>\n",
       "      <td>1</td>\n",
       "      <td>0</td>\n",
       "      <td>113803</td>\n",
       "      <td>53.1000</td>\n",
       "      <td>C123</td>\n",
       "      <td>S</td>\n",
       "    </tr>\n",
       "    <tr>\n",
       "      <th>4</th>\n",
       "      <td>5</td>\n",
       "      <td>0</td>\n",
       "      <td>3</td>\n",
       "      <td>Allen, Mr. William Henry</td>\n",
       "      <td>male</td>\n",
       "      <td>35.0</td>\n",
       "      <td>0</td>\n",
       "      <td>0</td>\n",
       "      <td>373450</td>\n",
       "      <td>8.0500</td>\n",
       "      <td>NaN</td>\n",
       "      <td>S</td>\n",
       "    </tr>\n",
       "  </tbody>\n",
       "</table>\n",
       "</div>"
      ],
      "text/plain": [
       "   PassengerId  Survived  Pclass  \\\n",
       "0            1         0       3   \n",
       "1            2         1       1   \n",
       "2            3         1       3   \n",
       "3            4         1       1   \n",
       "4            5         0       3   \n",
       "\n",
       "                                                Name     Sex   Age  SibSp  \\\n",
       "0                            Braund, Mr. Owen Harris    male  22.0      1   \n",
       "1  Cumings, Mrs. John Bradley (Florence Briggs Th...  female  38.0      1   \n",
       "2                             Heikkinen, Miss. Laina  female  26.0      0   \n",
       "3       Futrelle, Mrs. Jacques Heath (Lily May Peel)  female  35.0      1   \n",
       "4                           Allen, Mr. William Henry    male  35.0      0   \n",
       "\n",
       "   Parch            Ticket     Fare Cabin Embarked  \n",
       "0      0         A/5 21171   7.2500   NaN        S  \n",
       "1      0          PC 17599  71.2833   C85        C  \n",
       "2      0  STON/O2. 3101282   7.9250   NaN        S  \n",
       "3      0            113803  53.1000  C123        S  \n",
       "4      0            373450   8.0500   NaN        S  "
      ]
     },
     "execution_count": 2,
     "metadata": {},
     "output_type": "execute_result"
    }
   ],
   "source": [
    "df.head()"
   ]
  },
  {
   "cell_type": "markdown",
   "metadata": {},
   "source": [
    "可看到數據檔案內包含了以下變量 : \n",
    "$\n",
    "Survived : 存活與否 ( 0 = 死亡, 1 = 存活 ) \\\\\n",
    "Pclass   : 艙等 (1 = 1st, 2 = 2nd, 3 = 3rd ) \\\\\n",
    "Name     : 姓名 \\\\\n",
    "Sex      : 性別 \\\\\n",
    "Age      : 年齡 \\\\\n",
    "SibSp    : 在船上的兄弟姊妹/配偶數量 \\\\\n",
    "Parch    : 在船上的父母/子女數量 \\\\\n",
    "Ticket   : 船票號碼 \\\\\n",
    "Fare     : 船票價格 \\\\\n",
    "Cabin    : 船艙號碼 \\\\\n",
    "Embarked : 登船港口 \\\\\n",
    "$"
   ]
  },
  {
   "cell_type": "markdown",
   "metadata": {},
   "source": [
    "姓名、船票號碼以及船艙號碼，或許可以分辨此人的身分地位以及所在的船艙等級，但在此資料內已有紀錄艙等，故在後續的分析內暫不使用。"
   ]
  },
  {
   "cell_type": "code",
   "execution_count": 3,
   "metadata": {},
   "outputs": [
    {
     "data": {
      "text/html": [
       "<div>\n",
       "<style>\n",
       "    .dataframe thead tr:only-child th {\n",
       "        text-align: right;\n",
       "    }\n",
       "\n",
       "    .dataframe thead th {\n",
       "        text-align: left;\n",
       "    }\n",
       "\n",
       "    .dataframe tbody tr th {\n",
       "        vertical-align: top;\n",
       "    }\n",
       "</style>\n",
       "<table border=\"1\" class=\"dataframe\">\n",
       "  <thead>\n",
       "    <tr style=\"text-align: right;\">\n",
       "      <th></th>\n",
       "      <th>PassengerId</th>\n",
       "      <th>Survived</th>\n",
       "      <th>Pclass</th>\n",
       "      <th>Sex</th>\n",
       "      <th>Age</th>\n",
       "      <th>SibSp</th>\n",
       "      <th>Parch</th>\n",
       "      <th>Fare</th>\n",
       "      <th>Embarked</th>\n",
       "    </tr>\n",
       "  </thead>\n",
       "  <tbody>\n",
       "    <tr>\n",
       "      <th>0</th>\n",
       "      <td>1</td>\n",
       "      <td>0</td>\n",
       "      <td>3</td>\n",
       "      <td>male</td>\n",
       "      <td>22.0</td>\n",
       "      <td>1</td>\n",
       "      <td>0</td>\n",
       "      <td>7.2500</td>\n",
       "      <td>S</td>\n",
       "    </tr>\n",
       "    <tr>\n",
       "      <th>1</th>\n",
       "      <td>2</td>\n",
       "      <td>1</td>\n",
       "      <td>1</td>\n",
       "      <td>female</td>\n",
       "      <td>38.0</td>\n",
       "      <td>1</td>\n",
       "      <td>0</td>\n",
       "      <td>71.2833</td>\n",
       "      <td>C</td>\n",
       "    </tr>\n",
       "    <tr>\n",
       "      <th>2</th>\n",
       "      <td>3</td>\n",
       "      <td>1</td>\n",
       "      <td>3</td>\n",
       "      <td>female</td>\n",
       "      <td>26.0</td>\n",
       "      <td>0</td>\n",
       "      <td>0</td>\n",
       "      <td>7.9250</td>\n",
       "      <td>S</td>\n",
       "    </tr>\n",
       "    <tr>\n",
       "      <th>3</th>\n",
       "      <td>4</td>\n",
       "      <td>1</td>\n",
       "      <td>1</td>\n",
       "      <td>female</td>\n",
       "      <td>35.0</td>\n",
       "      <td>1</td>\n",
       "      <td>0</td>\n",
       "      <td>53.1000</td>\n",
       "      <td>S</td>\n",
       "    </tr>\n",
       "    <tr>\n",
       "      <th>4</th>\n",
       "      <td>5</td>\n",
       "      <td>0</td>\n",
       "      <td>3</td>\n",
       "      <td>male</td>\n",
       "      <td>35.0</td>\n",
       "      <td>0</td>\n",
       "      <td>0</td>\n",
       "      <td>8.0500</td>\n",
       "      <td>S</td>\n",
       "    </tr>\n",
       "  </tbody>\n",
       "</table>\n",
       "</div>"
      ],
      "text/plain": [
       "   PassengerId  Survived  Pclass     Sex   Age  SibSp  Parch     Fare Embarked\n",
       "0            1         0       3    male  22.0      1      0   7.2500        S\n",
       "1            2         1       1  female  38.0      1      0  71.2833        C\n",
       "2            3         1       3  female  26.0      0      0   7.9250        S\n",
       "3            4         1       1  female  35.0      1      0  53.1000        S\n",
       "4            5         0       3    male  35.0      0      0   8.0500        S"
      ]
     },
     "execution_count": 3,
     "metadata": {},
     "output_type": "execute_result"
    }
   ],
   "source": [
    "# drop unnecessary columns, these columns won't be use in analysis\n",
    "df = df.drop(['Name','Ticket','Cabin'], axis=1)\n",
    "df.head()"
   ]
  },
  {
   "cell_type": "code",
   "execution_count": 4,
   "metadata": {},
   "outputs": [
    {
     "data": {
      "text/plain": [
       "891"
      ]
     },
     "execution_count": 4,
     "metadata": {},
     "output_type": "execute_result"
    }
   ],
   "source": [
    "len(df)"
   ]
  },
  {
   "cell_type": "markdown",
   "metadata": {},
   "source": [
    "此數據集總計有891組數據，首先查找各數據的缺失情況。"
   ]
  },
  {
   "cell_type": "code",
   "execution_count": 5,
   "metadata": {},
   "outputs": [
    {
     "name": "stdout",
     "output_type": "stream",
     "text": [
      "PassengerId  :  0\n",
      "Survived  :  0\n",
      "Pclass  :  0\n",
      "Sex  :  0\n",
      "Age  :  177\n",
      "SibSp  :  0\n",
      "Parch  :  0\n",
      "Fare  :  0\n",
      "Embarked  :  2\n"
     ]
    }
   ],
   "source": [
    "def checkNaN(name):\n",
    "    '''Check if there is any NaN'''\n",
    "    return df[name].isnull().sum()\n",
    "\n",
    "for name in df:\n",
    "    print name,' : ',checkNaN(name)"
   ]
  },
  {
   "cell_type": "markdown",
   "metadata": {},
   "source": [
    "可以看出年齡以及船艙號碼的缺失狀況最嚴重，分別有177以及687組數據缺失，另外登船港口也有2組缺失數據。年齡與存活狀況可能有關連，而登船港口的數據缺失十分少量，因此選擇補充此部分之缺失數據。"
   ]
  },
  {
   "cell_type": "code",
   "execution_count": 6,
   "metadata": {
    "collapsed": true
   },
   "outputs": [],
   "source": [
    "df['Embarked'] = df['Embarked'].fillna('S') #fill NaN of Embarked by 'S'\n",
    "df['Age'] = df['Age'].fillna(df['Age'].median()) #fill NaN of Age by median of Age"
   ]
  },
  {
   "cell_type": "code",
   "execution_count": 7,
   "metadata": {
    "collapsed": true
   },
   "outputs": [],
   "source": [
    "#由於性別為字串，增加一列並改變為數字，方便後續處理可計算性別的比例。\n",
    "def change_sex_to_num(sex):\n",
    "    if sex == 'female':\n",
    "        return 0\n",
    "    elif sex == 'male':\n",
    "        return 1\n",
    "\n",
    "df['Sex_num'] = df['Sex'].apply(change_sex_to_num)"
   ]
  },
  {
   "cell_type": "code",
   "execution_count": 8,
   "metadata": {},
   "outputs": [
    {
     "data": {
      "text/html": [
       "<div>\n",
       "<style>\n",
       "    .dataframe thead tr:only-child th {\n",
       "        text-align: right;\n",
       "    }\n",
       "\n",
       "    .dataframe thead th {\n",
       "        text-align: left;\n",
       "    }\n",
       "\n",
       "    .dataframe tbody tr th {\n",
       "        vertical-align: top;\n",
       "    }\n",
       "</style>\n",
       "<table border=\"1\" class=\"dataframe\">\n",
       "  <thead>\n",
       "    <tr style=\"text-align: right;\">\n",
       "      <th></th>\n",
       "      <th>PassengerId</th>\n",
       "      <th>Survived</th>\n",
       "      <th>Pclass</th>\n",
       "      <th>Sex</th>\n",
       "      <th>Age</th>\n",
       "      <th>SibSp</th>\n",
       "      <th>Parch</th>\n",
       "      <th>Fare</th>\n",
       "      <th>Embarked</th>\n",
       "      <th>Sex_num</th>\n",
       "    </tr>\n",
       "  </thead>\n",
       "  <tbody>\n",
       "    <tr>\n",
       "      <th>0</th>\n",
       "      <td>1</td>\n",
       "      <td>0</td>\n",
       "      <td>3</td>\n",
       "      <td>male</td>\n",
       "      <td>22.0</td>\n",
       "      <td>1</td>\n",
       "      <td>0</td>\n",
       "      <td>7.2500</td>\n",
       "      <td>S</td>\n",
       "      <td>1</td>\n",
       "    </tr>\n",
       "    <tr>\n",
       "      <th>1</th>\n",
       "      <td>2</td>\n",
       "      <td>1</td>\n",
       "      <td>1</td>\n",
       "      <td>female</td>\n",
       "      <td>38.0</td>\n",
       "      <td>1</td>\n",
       "      <td>0</td>\n",
       "      <td>71.2833</td>\n",
       "      <td>C</td>\n",
       "      <td>0</td>\n",
       "    </tr>\n",
       "    <tr>\n",
       "      <th>2</th>\n",
       "      <td>3</td>\n",
       "      <td>1</td>\n",
       "      <td>3</td>\n",
       "      <td>female</td>\n",
       "      <td>26.0</td>\n",
       "      <td>0</td>\n",
       "      <td>0</td>\n",
       "      <td>7.9250</td>\n",
       "      <td>S</td>\n",
       "      <td>0</td>\n",
       "    </tr>\n",
       "    <tr>\n",
       "      <th>3</th>\n",
       "      <td>4</td>\n",
       "      <td>1</td>\n",
       "      <td>1</td>\n",
       "      <td>female</td>\n",
       "      <td>35.0</td>\n",
       "      <td>1</td>\n",
       "      <td>0</td>\n",
       "      <td>53.1000</td>\n",
       "      <td>S</td>\n",
       "      <td>0</td>\n",
       "    </tr>\n",
       "    <tr>\n",
       "      <th>4</th>\n",
       "      <td>5</td>\n",
       "      <td>0</td>\n",
       "      <td>3</td>\n",
       "      <td>male</td>\n",
       "      <td>35.0</td>\n",
       "      <td>0</td>\n",
       "      <td>0</td>\n",
       "      <td>8.0500</td>\n",
       "      <td>S</td>\n",
       "      <td>1</td>\n",
       "    </tr>\n",
       "  </tbody>\n",
       "</table>\n",
       "</div>"
      ],
      "text/plain": [
       "   PassengerId  Survived  Pclass     Sex   Age  SibSp  Parch     Fare  \\\n",
       "0            1         0       3    male  22.0      1      0   7.2500   \n",
       "1            2         1       1  female  38.0      1      0  71.2833   \n",
       "2            3         1       3  female  26.0      0      0   7.9250   \n",
       "3            4         1       1  female  35.0      1      0  53.1000   \n",
       "4            5         0       3    male  35.0      0      0   8.0500   \n",
       "\n",
       "  Embarked  Sex_num  \n",
       "0        S        1  \n",
       "1        C        0  \n",
       "2        S        0  \n",
       "3        S        0  \n",
       "4        S        1  "
      ]
     },
     "execution_count": 8,
     "metadata": {},
     "output_type": "execute_result"
    }
   ],
   "source": [
    "df.head()"
   ]
  },
  {
   "cell_type": "code",
   "execution_count": 9,
   "metadata": {},
   "outputs": [
    {
     "data": {
      "text/html": [
       "<div>\n",
       "<style>\n",
       "    .dataframe thead tr:only-child th {\n",
       "        text-align: right;\n",
       "    }\n",
       "\n",
       "    .dataframe thead th {\n",
       "        text-align: left;\n",
       "    }\n",
       "\n",
       "    .dataframe tbody tr th {\n",
       "        vertical-align: top;\n",
       "    }\n",
       "</style>\n",
       "<table border=\"1\" class=\"dataframe\">\n",
       "  <thead>\n",
       "    <tr style=\"text-align: right;\">\n",
       "      <th></th>\n",
       "      <th>PassengerId</th>\n",
       "      <th>Survived</th>\n",
       "      <th>Pclass</th>\n",
       "      <th>Age</th>\n",
       "      <th>SibSp</th>\n",
       "      <th>Parch</th>\n",
       "      <th>Fare</th>\n",
       "      <th>Sex_num</th>\n",
       "    </tr>\n",
       "  </thead>\n",
       "  <tbody>\n",
       "    <tr>\n",
       "      <th>count</th>\n",
       "      <td>891.000000</td>\n",
       "      <td>891.000000</td>\n",
       "      <td>891.000000</td>\n",
       "      <td>891.000000</td>\n",
       "      <td>891.000000</td>\n",
       "      <td>891.000000</td>\n",
       "      <td>891.000000</td>\n",
       "      <td>891.000000</td>\n",
       "    </tr>\n",
       "    <tr>\n",
       "      <th>mean</th>\n",
       "      <td>446.000000</td>\n",
       "      <td>0.383838</td>\n",
       "      <td>2.308642</td>\n",
       "      <td>29.361582</td>\n",
       "      <td>0.523008</td>\n",
       "      <td>0.381594</td>\n",
       "      <td>32.204208</td>\n",
       "      <td>0.647587</td>\n",
       "    </tr>\n",
       "    <tr>\n",
       "      <th>std</th>\n",
       "      <td>257.353842</td>\n",
       "      <td>0.486592</td>\n",
       "      <td>0.836071</td>\n",
       "      <td>13.019697</td>\n",
       "      <td>1.102743</td>\n",
       "      <td>0.806057</td>\n",
       "      <td>49.693429</td>\n",
       "      <td>0.477990</td>\n",
       "    </tr>\n",
       "    <tr>\n",
       "      <th>min</th>\n",
       "      <td>1.000000</td>\n",
       "      <td>0.000000</td>\n",
       "      <td>1.000000</td>\n",
       "      <td>0.420000</td>\n",
       "      <td>0.000000</td>\n",
       "      <td>0.000000</td>\n",
       "      <td>0.000000</td>\n",
       "      <td>0.000000</td>\n",
       "    </tr>\n",
       "    <tr>\n",
       "      <th>25%</th>\n",
       "      <td>223.500000</td>\n",
       "      <td>0.000000</td>\n",
       "      <td>2.000000</td>\n",
       "      <td>22.000000</td>\n",
       "      <td>0.000000</td>\n",
       "      <td>0.000000</td>\n",
       "      <td>7.910400</td>\n",
       "      <td>0.000000</td>\n",
       "    </tr>\n",
       "    <tr>\n",
       "      <th>50%</th>\n",
       "      <td>446.000000</td>\n",
       "      <td>0.000000</td>\n",
       "      <td>3.000000</td>\n",
       "      <td>28.000000</td>\n",
       "      <td>0.000000</td>\n",
       "      <td>0.000000</td>\n",
       "      <td>14.454200</td>\n",
       "      <td>1.000000</td>\n",
       "    </tr>\n",
       "    <tr>\n",
       "      <th>75%</th>\n",
       "      <td>668.500000</td>\n",
       "      <td>1.000000</td>\n",
       "      <td>3.000000</td>\n",
       "      <td>35.000000</td>\n",
       "      <td>1.000000</td>\n",
       "      <td>0.000000</td>\n",
       "      <td>31.000000</td>\n",
       "      <td>1.000000</td>\n",
       "    </tr>\n",
       "    <tr>\n",
       "      <th>max</th>\n",
       "      <td>891.000000</td>\n",
       "      <td>1.000000</td>\n",
       "      <td>3.000000</td>\n",
       "      <td>80.000000</td>\n",
       "      <td>8.000000</td>\n",
       "      <td>6.000000</td>\n",
       "      <td>512.329200</td>\n",
       "      <td>1.000000</td>\n",
       "    </tr>\n",
       "  </tbody>\n",
       "</table>\n",
       "</div>"
      ],
      "text/plain": [
       "       PassengerId    Survived      Pclass         Age       SibSp  \\\n",
       "count   891.000000  891.000000  891.000000  891.000000  891.000000   \n",
       "mean    446.000000    0.383838    2.308642   29.361582    0.523008   \n",
       "std     257.353842    0.486592    0.836071   13.019697    1.102743   \n",
       "min       1.000000    0.000000    1.000000    0.420000    0.000000   \n",
       "25%     223.500000    0.000000    2.000000   22.000000    0.000000   \n",
       "50%     446.000000    0.000000    3.000000   28.000000    0.000000   \n",
       "75%     668.500000    1.000000    3.000000   35.000000    1.000000   \n",
       "max     891.000000    1.000000    3.000000   80.000000    8.000000   \n",
       "\n",
       "            Parch        Fare     Sex_num  \n",
       "count  891.000000  891.000000  891.000000  \n",
       "mean     0.381594   32.204208    0.647587  \n",
       "std      0.806057   49.693429    0.477990  \n",
       "min      0.000000    0.000000    0.000000  \n",
       "25%      0.000000    7.910400    0.000000  \n",
       "50%      0.000000   14.454200    1.000000  \n",
       "75%      0.000000   31.000000    1.000000  \n",
       "max      6.000000  512.329200    1.000000  "
      ]
     },
     "execution_count": 9,
     "metadata": {},
     "output_type": "execute_result"
    }
   ],
   "source": [
    "df.describe()"
   ]
  },
  {
   "cell_type": "markdown",
   "metadata": {},
   "source": [
    "# 2. 初步探索數據\n",
    "### 2.0 計算各變量及存活率之間的相關係數"
   ]
  },
  {
   "cell_type": "code",
   "execution_count": 10,
   "metadata": {},
   "outputs": [
    {
     "name": "stdout",
     "output_type": "stream",
     "text": [
      "             Survived    Pclass       Age     SibSp   Sex_num\n",
      "PassengerId -0.005007 -0.035144  0.034212 -0.057527  0.042939\n",
      "Survived     1.000000 -0.338481 -0.064910 -0.035322 -0.543351\n",
      "Pclass      -0.338481  1.000000 -0.339898  0.083081  0.131900\n",
      "Age         -0.064910 -0.339898  1.000000 -0.233296  0.081163\n",
      "SibSp       -0.035322  0.083081 -0.233296  1.000000 -0.114631\n",
      "Parch        0.081629  0.018443 -0.172482  0.414838 -0.245489\n",
      "Fare         0.257307 -0.549500  0.096688  0.159651 -0.182333\n",
      "Sex_num     -0.543351  0.131900  0.081163 -0.114631  1.000000\n"
     ]
    }
   ],
   "source": [
    "pearson = df.corr()\n",
    "print pearson[['Survived','Pclass','Age','SibSp','Sex_num']]"
   ]
  },
  {
   "cell_type": "markdown",
   "metadata": {},
   "source": [
    "可見與存活率相關度最高的前三個變數分別是 <br/>\n",
    "1. 性別\n",
    "2. 倉等\n",
    "3. 年齡<br/>\n",
    "因此接下來將主要針對此三點進行分析。"
   ]
  },
  {
   "cell_type": "markdown",
   "metadata": {},
   "source": [
    "### 2.1 將單一變量製圖觀察是否有明顯趨勢\n",
    "在此數據集中，主要想針對泰坦尼克號事件，乘客存活與否和各個因素的關聯性進行探討。"
   ]
  },
  {
   "cell_type": "code",
   "execution_count": 11,
   "metadata": {
    "collapsed": true
   },
   "outputs": [],
   "source": [
    "#設置函數供後續使用\n",
    "from scipy.stats import ttest_ind\n",
    "def count_size(name):\n",
    "    '''count number of group'''\n",
    "    return df.groupby(name).size()\n",
    "\n",
    "def survival_rate_by_group(name):\n",
    "    '''count survival rate by grouped data'''\n",
    "    return df.groupby(name)['Survived'].mean()\n",
    "\n",
    "def mean_by_group(group_by,name):\n",
    "    '''calculate mean of some values by group'''\n",
    "    return df.groupby(group_by)[name].mean()\n",
    "\n",
    "def count_by_group(group_by,name):\n",
    "    '''calculate number of some values by group'''\n",
    "    return df.groupby(group_by)[name].count()\n",
    "\n",
    "def make_pie(group_by):\n",
    "    '''make pie chart'''\n",
    "    return group_by.plot.pie(figsize=(6,6),autopct='%.2f%%')\n",
    "    #return df.groupby(group_by).size().plot.pie(figsize=(6,6),autopct='%.2f%%',title = group_by)"
   ]
  },
  {
   "cell_type": "code",
   "execution_count": 12,
   "metadata": {},
   "outputs": [
    {
     "data": {
      "text/plain": [
       "<matplotlib.legend.Legend at 0x9927f28>"
      ]
     },
     "execution_count": 12,
     "metadata": {},
     "output_type": "execute_result"
    },
    {
     "data": {
      "image/png": "[encoded data removed]",
      "text/plain": [
       "<matplotlib.figure.Figure at 0x9927a58>"
      ]
     },
     "metadata": {},
     "output_type": "display_data"
    }
   ],
   "source": [
    "#計算整體存活率\n",
    "df['Survived'].mean()\n",
    "make_pie(count_size('Survived'))\n",
    "plt.legend(labels=['Not saved','Saved'])"
   ]
  },
  {
   "cell_type": "markdown",
   "metadata": {},
   "source": [
    ">首先想到的是「女士優先」的俗語，因此性別是否會對存活率有區別是一個可探討的點。\n",
    ">\n",
    ">故分別計算兩個性別的存活率。"
   ]
  },
  {
   "cell_type": "code",
   "execution_count": 13,
   "metadata": {},
   "outputs": [
    {
     "data": {
      "text/plain": [
       "Sex\n",
       "female    0.742038\n",
       "male      0.188908\n",
       "Name: Survived, dtype: float64"
      ]
     },
     "execution_count": 13,
     "metadata": {},
     "output_type": "execute_result"
    }
   ],
   "source": [
    "survival_rate_by_group('Sex')"
   ]
  },
  {
   "cell_type": "code",
   "execution_count": 14,
   "metadata": {
    "scrolled": true
   },
   "outputs": [
    {
     "data": {
      "text/plain": [
       "<matplotlib.figure.Figure at 0xb232048>"
      ]
     },
     "metadata": {},
     "output_type": "display_data"
    },
    {
     "data": {
      "image/png": "[encoded data removed]",
      "text/plain": [
       "<matplotlib.figure.Figure at 0xb220fd0>"
      ]
     },
     "metadata": {},
     "output_type": "display_data"
    }
   ],
   "source": [
    "#calculate survival rate by Pclass\n",
    "plt.figure(figsize = (12, 5))\n",
    "f,(ax1,ax2) = plt.subplots(1, 2)\n",
    "f.set_size_inches((20, 8))\n",
    "count_by_group(['Sex','Survived'],'PassengerId').unstack().plot(kind='bar',\n",
    "                                                                ax = ax1, \n",
    "                                                                stacked = True\n",
    "                                                              )\n",
    "ax1.set_title('Survived number of Sex')\n",
    "ax1.set_ylabel('Count')\n",
    "\n",
    "survival_rate_by_group('Sex').plot(kind = 'bar', ax = ax2)\n",
    "ax2.set_title('Survival rate of Sex')\n",
    "ax2.set_ylabel('Survival rate')\n",
    "\n",
    "plt.show()"
   ]
  },
  {
   "cell_type": "markdown",
   "metadata": {},
   "source": [
    "可看見雖然男性登船人數較多，但死亡人數也較多，女性的生存率有74.2%，男性只有18.9%，女性存活率遠大於男性。"
   ]
  },
  {
   "cell_type": "markdown",
   "metadata": {},
   "source": [
    ">再來我們已知艙等與客艙位在船上的位置是有關連的(1st class的樓層最高，3rd的樓層最低)。\n",
    ">\n",
    ">預想頭等艙票價較貴，因此乘客可能身份地位較高，且可以想到樓層越高要逃離船難也應該更為簡單，因此想針對客艙艙等與存活率進行觀察。"
   ]
  },
  {
   "cell_type": "code",
   "execution_count": 15,
   "metadata": {},
   "outputs": [
    {
     "name": "stdout",
     "output_type": "stream",
     "text": [
      "Survival rate by Pclass\n",
      "Pclass\n",
      "1    0.629630\n",
      "2    0.472826\n",
      "3    0.242363\n",
      "Name: Survived, dtype: float64\n"
     ]
    },
    {
     "data": {
      "text/plain": [
       "<matplotlib.figure.Figure at 0xb0c54a8>"
      ]
     },
     "metadata": {},
     "output_type": "display_data"
    },
    {
     "data": {
      "image/png": "[encoded data removed]",
      "text/plain": [
       "<matplotlib.figure.Figure at 0xb4e6518>"
      ]
     },
     "metadata": {},
     "output_type": "display_data"
    }
   ],
   "source": [
    "print 'Survival rate by Pclass'\n",
    "print survival_rate_by_group('Pclass')\n",
    "\n",
    "#calculate survival rate by Pclass\n",
    "plt.figure(figsize = (12, 5))\n",
    "f,(ax1,ax2) = plt.subplots(1, 2)\n",
    "f.set_size_inches((20, 8))\n",
    "count_by_group(['Pclass','Survived'],'PassengerId').unstack().plot(kind='bar',\n",
    "                                                                ax = ax1, \n",
    "                                                                stacked = True\n",
    "                                                              )\n",
    "ax1.set_title('Survived number of Pclass')\n",
    "ax1.set_ylabel('Count')\n",
    "\n",
    "survival_rate_by_group('Pclass').plot(kind = 'bar', ax = ax2)\n",
    "ax2.set_title('Survival rate of Pclass')\n",
    "ax2.set_ylabel('Survival rate')\n",
    "\n",
    "plt.show()"
   ]
  },
  {
   "cell_type": "markdown",
   "metadata": {},
   "source": [
    "可以看到3rd class的人數最多, 但死亡的人也最多，存活率僅有24.2%。整體的存活比率為1st class > 2nd class > 3rd class。"
   ]
  },
  {
   "cell_type": "markdown",
   "metadata": {},
   "source": [
    ">再來計算乘客的年齡是否會因為影響活動能力而對存活率有所影響。\n",
    ">\n",
    ">"
   ]
  },
  {
   "cell_type": "code",
   "execution_count": 16,
   "metadata": {},
   "outputs": [
    {
     "data": {
      "text/plain": [
       "<matplotlib.figure.Figure at 0xb7e26d8>"
      ]
     },
     "metadata": {},
     "output_type": "display_data"
    },
    {
     "data": {
      "image/png": "[encoded data removed]",
      "text/plain": [
       "<matplotlib.figure.Figure at 0xb7e2828>"
      ]
     },
     "metadata": {},
     "output_type": "display_data"
    }
   ],
   "source": [
    "plt.figure(figsize = (12, 5))\n",
    "f,(ax1,ax2) = plt.subplots(1, 2)\n",
    "f.set_size_inches((20, 8))\n",
    "\n",
    "#calculate survived number by Age\n",
    "bins = np.arange(0 ,90, 10)\n",
    "df['Age_group'] = pd.cut(df['Age'], bins)\n",
    "count_by_group('Age_group','PassengerId').plot(kind = 'bar',ax = ax1)\n",
    "plt.title('Survived number of Age')\n",
    "plt.ylabel('Count')\n",
    "\n",
    "#calculate survival rate by Age\n",
    "survival_rate_by_group('Age_group').plot(kind = 'bar', ax = ax2)\n",
    "ax2.set_title('Survival rate of Pclass')\n",
    "ax2.set_ylabel('Survival rate')\n",
    "\n",
    "plt.show()"
   ]
  },
  {
   "cell_type": "markdown",
   "metadata": {},
   "source": [
    "初步觀察可見20-30歲之間的存活人數最多，但年齡與存活率沒有可見到明確的差異，只可觀察到10歲以下的幼童存活率較高。"
   ]
  },
  {
   "cell_type": "markdown",
   "metadata": {},
   "source": [
    "## 2.2 進行多變量的製圖分析\n",
    "接下來想針對前項有相當大差距的性別以及倉等進行分析，觀察他們之間的關聯性。"
   ]
  },
  {
   "cell_type": "code",
   "execution_count": 17,
   "metadata": {},
   "outputs": [
    {
     "name": "stdout",
     "output_type": "stream",
     "text": [
      "Sex     Pclass\n",
      "female  1         0.968085\n",
      "        2         0.921053\n",
      "        3         0.500000\n",
      "male    1         0.368852\n",
      "        2         0.157407\n",
      "        3         0.135447\n",
      "Name: Survived, dtype: float64\n"
     ]
    },
    {
     "data": {
      "text/plain": [
       "<matplotlib.figure.Figure at 0xb92e908>"
      ]
     },
     "metadata": {},
     "output_type": "display_data"
    },
    {
     "data": {
      "image/png": "[encoded data removed]",
      "text/plain": [
       "<matplotlib.figure.Figure at 0xb92e8d0>"
      ]
     },
     "metadata": {},
     "output_type": "display_data"
    }
   ],
   "source": [
    "print mean_by_group(['Sex','Pclass'],'Survived')\n",
    "\n",
    "#set figer\n",
    "plt.figure(figsize = (14, 5))\n",
    "f,(ax1,ax2) = plt.subplots(1, 2)\n",
    "f.set_size_inches((20, 8))\n",
    "\n",
    "#calculate survived number of Sex and Pclass\n",
    "count_by_group(['Pclass','Sex'],'PassengerId').unstack().plot(kind = 'bar',ax = ax1)\n",
    "ax1.set_title('Survived number of Sex and Pclass')\n",
    "ax1.set_ylabel('Count')\n",
    "\n",
    "#calculate survival rate of Sex and Pclass\n",
    "survival_rate_by_group(['Pclass','Sex']).unstack().plot(kind = 'bar', ax = ax2)\n",
    "ax2.set_title('Survival rate of Sex and Pclass')\n",
    "ax2.set_ylabel('Survival Rate')\n",
    "\n",
    "plt.show()"
   ]
  },
  {
   "cell_type": "markdown",
   "metadata": {},
   "source": [
    "可見如果是1st及2nd倉等中的女性佔了生存者中的絕大多數，其倖存率均超過90%，其次為3rd倉等的女性，但其倖存率已大幅降低到僅有50%。男性則存活率大幅降低，2nd及3rd倉等的男性分別只有15.7%及13.5%的存活率。 <br\\>\n",
    "而不管是男是女，其存活率都隨著艙等越高而有增加的趨勢。"
   ]
  },
  {
   "cell_type": "markdown",
   "metadata": {
    "collapsed": true
   },
   "source": [
    "# 結論\n",
    ">綜合以上分析，對生存率影響較大的變量有性別,倉等和年齡。但年齡部分由於數據缺失較嚴重，僅以中位數進行數據填充，是否有明確影響尚待進一步挖掘。\n",
    ">\n",
    ">而性別則對存活率有一定的影響力，男性的存活率僅有18%，而女性則到達74%的存活率。\n",
    ">\n",
    ">船艙等級與存活率相掛鉤的因素，可以想到的是由於船艙的位置可能會影響到逃生的難易度，位於最底層的三等艙只有24%的乘客存活。\n",
    ">\n",
    ">另外船艙等級是否與地位的高低有關連，會不會有地位較高的人可以優先登上救生船的情況，則可能需在找尋其他資訊再進行判斷。其他可以想像到會影響的因素還有，此人是否是船員，會因職責問題而必須最後離開,是否有受傷等情況，均有可能會影響乘客是否存活。\n",
    ">\n",
    "### 本次分析的不確定因素\n",
    ">\n",
    ">查詢歷史資料可知，泰坦尼克號上總計有1324乘客和892名甲板工作人員上船，而本次使用的數據僅有891筆數據資料。並不能代表著整體泰坦尼克號上的總體數據，樣本與整體可能會存在著偏差。\n",
    ">\n",
    ">同時數據集中也還沒有經過統計分析，所以還無法說本次統計結果是真正的具有相關性。\n",
    ">"
   ]
  }
 ],
 "metadata": {
  "kernelspec": {
   "display_name": "Python 2",
   "language": "python",
   "name": "python2"
  },
  "language_info": {
   "codemirror_mode": {
    "name": "ipython",
    "version": 2
   },
   "file_extension": ".py",
   "mimetype": "text/x-python",
   "name": "python",
   "nbconvert_exporter": "python",
   "pygments_lexer": "ipython2",
   "version": "2.7.13"
  }
 },
 "nbformat": 4,
 "nbformat_minor": 2
}
